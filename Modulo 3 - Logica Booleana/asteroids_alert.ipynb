{
 "cells": [
  {
   "cell_type": "markdown",
   "metadata": {
    "collapsed": true,
    "pycharm": {
     "name": "#%% md\n"
    }
   },
   "source": [
    "<h1>Alerta en caso de asteroide peligroso</h1>"
   ]
  },
  {
   "cell_type": "code",
   "execution_count": 1,
   "outputs": [
    {
     "name": "stdout",
     "output_type": "stream",
     "text": [
      "Se acerca un asteroide muy peligrosamente a la nave\n",
      "Velocidad del asteroide:  49\n"
     ]
    }
   ],
   "source": [
    "velocidad = 49\n",
    "\n",
    "if velocidad > 25:\n",
    "    print(\"Se acerca un asteroide muy peligrosamente rápido a la tierra\")\n",
    "    print(\"Velocidad del asteroide: \",velocidad)\n",
    "else:\n",
    "    print(\"Todo tranquilo...\")"
   ],
   "metadata": {
    "collapsed": false,
    "pycharm": {
     "name": "#%%\n"
    }
   }
  },
  {
   "cell_type": "markdown",
   "source": [
    "<h1>Alerta en caso de asteroide en la atmosfera</h1>"
   ],
   "metadata": {
    "collapsed": false
   }
  },
  {
   "cell_type": "code",
   "execution_count": 1,
   "outputs": [
    {
     "name": "stdout",
     "output_type": "stream",
     "text": [
      "Mala suerte, es muy probable que el asteroide no sea visible\n"
     ]
    }
   ],
   "source": [
    "velocidad = 19\n",
    "\n",
    "if velocidad >= 20:\n",
    "    print(\"Un asteroide está en la atmosfera\\nAtentos en el cielo\")\n",
    "else:\n",
    "    print(\"Mala suerte, es muy probable que el asteroide no sea visible\")"
   ],
   "metadata": {
    "collapsed": false,
    "pycharm": {
     "name": "#%%\n"
    }
   }
  },
  {
   "cell_type": "markdown",
   "source": [
    "<h1>Alerta de tamaño de asteroide</h1>"
   ],
   "metadata": {
    "collapsed": false,
    "pycharm": {
     "name": "#%% md\n"
    }
   }
  },
  {
   "cell_type": "code",
   "execution_count": 16,
   "outputs": [
    {
     "name": "stdout",
     "output_type": "stream",
     "text": [
      "Se aproxima un asteroide\n",
      "Analizando datos...\n",
      "¡El asteroide es muy peligroso para la tierra!\n"
     ]
    }
   ],
   "source": [
    "from random import  randint\n",
    "velocidad = randint(1,50)\n",
    "tamaño = randint(1,30)\n",
    "\n",
    "print(\"Se aproxima un asteroide\\nAnalizando datos...\")\n",
    "\n",
    "if tamaño > 25 or velocidad > 25:\n",
    "    print(\"¡El asteroide es muy peligroso para la tierra!\")\n",
    "elif velocidad >= 20:\n",
    "    print(\"Atentos al cielo. ¡Un asteroide podría alegrarles la vista!\")\n",
    "else:\n",
    "    print(\"El asteroide no aefectará de ninguna manera a la tierra\")"
   ],
   "metadata": {
    "collapsed": false,
    "pycharm": {
     "name": "#%%\n"
    }
   }
  },
  {
   "cell_type": "code",
   "execution_count": null,
   "outputs": [],
   "source": [],
   "metadata": {
    "collapsed": false,
    "pycharm": {
     "name": "#%%\n"
    }
   }
  }
 ],
 "metadata": {
  "kernelspec": {
   "display_name": "Python 3",
   "language": "python",
   "name": "python3"
  },
  "language_info": {
   "codemirror_mode": {
    "name": "ipython",
    "version": 2
   },
   "file_extension": ".py",
   "mimetype": "text/x-python",
   "name": "python",
   "nbconvert_exporter": "python",
   "pygments_lexer": "ipython2",
   "version": "2.7.6"
  }
 },
 "nbformat": 4,
 "nbformat_minor": 0
}