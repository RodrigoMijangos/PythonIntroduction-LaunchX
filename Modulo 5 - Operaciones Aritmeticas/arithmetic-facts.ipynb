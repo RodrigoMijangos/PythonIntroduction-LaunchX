{
 "cells": [
  {
   "cell_type": "markdown",
   "metadata": {
    "collapsed": true,
    "pycharm": {
     "name": "#%% md\n"
    }
   },
   "source": [
    "<h1>Distancia entre dos planetas</h1>"
   ]
  },
  {
   "cell_type": "code",
   "execution_count": 1,
   "outputs": [
    {
     "name": "stdout",
     "output_type": "stream",
     "text": [
      "La distancia en km es: 628949330\n",
      "La distancia en millas es  1012195830.53952\n"
     ]
    }
   ],
   "source": [
    "tierra = 149597870\n",
    "jupiter = 778547200\n",
    "\n",
    "dif = jupiter - tierra\n",
    "\n",
    "print(f\"La distancia en km es: {dif}\")\n",
    "print(\"La distancia en millas es \",dif*1.609344)"
   ],
   "metadata": {
    "collapsed": false,
    "pycharm": {
     "name": "#%%\n"
    }
   }
  },
  {
   "cell_type": "markdown",
   "source": [
    "<h1>Cadenas En Numeros y Valor Absoluto</h1>"
   ],
   "metadata": {
    "collapsed": false,
    "pycharm": {
     "name": "#%% md\n"
    }
   }
  },
  {
   "cell_type": "code",
   "execution_count": 7,
   "outputs": [
    {
     "name": "stdout",
     "output_type": "stream",
     "text": [
      "La distancia en km es:  5\n",
      "La distancia en millas es  8.04672\n"
     ]
    }
   ],
   "source": [
    "first = input(\"Inserta el primer planeta\")\n",
    "second = input(\"Inserta el segundo planeta\")\n",
    "\n",
    "result = int(second) - int(first)\n",
    "\n",
    "print(f\"La distancia en km es: \",abs(result))\n",
    "print(\"La distancia en millas es \",abs(result)*1.609344)"
   ],
   "metadata": {
    "collapsed": false,
    "pycharm": {
     "name": "#%%\n"
    }
   }
  }
 ],
 "metadata": {
  "kernelspec": {
   "display_name": "Python 3",
   "language": "python",
   "name": "python3"
  },
  "language_info": {
   "codemirror_mode": {
    "name": "ipython",
    "version": 2
   },
   "file_extension": ".py",
   "mimetype": "text/x-python",
   "name": "python",
   "nbconvert_exporter": "python",
   "pygments_lexer": "ipython2",
   "version": "2.7.6"
  }
 },
 "nbformat": 4,
 "nbformat_minor": 0
}